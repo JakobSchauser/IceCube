{
 "cells": [
  {
   "cell_type": "code",
   "execution_count": 62,
   "metadata": {
    "ExecuteTime": {
     "end_time": "2021-02-09T12:41:12.550837Z",
     "start_time": "2021-02-09T12:41:12.514928Z"
    }
   },
   "outputs": [],
   "source": [
    "import numpy as np\n",
    "import os, sqlite3, pickle, sys, gzip, shutil, time\n",
    "from tqdm import tqdm\n",
    "import os.path as osp\n",
    "\n",
    "from pandas import read_sql, concat\n",
    "from sklearn.preprocessing import normalize, RobustScaler\n",
    "from sklearn.neighbors import kneighbors_graph as knn\n",
    "import matplotlib.pyplot as plt\n",
    "\n",
    "os.environ['TF_CPP_MIN_LOG_LEVEL'] = '2' \n",
    "from spektral.data import Dataset, Graph\n",
    "import tensorflow as tf"
   ]
  },
  {
   "cell_type": "code",
   "execution_count": 63,
   "metadata": {
    "ExecuteTime": {
     "end_time": "2021-02-09T12:41:12.791632Z",
     "start_time": "2021-02-09T12:41:12.779662Z"
    }
   },
   "outputs": [],
   "source": [
    "features = [\"dom_x\", \"dom_y\", \"dom_z\", \"time\", \"charge_log10\"]\n",
    "targets  = [\"energy_log10\", \"position_x\", \"position_y\", \"position_z\", \"direction_x\", \"direction_y\", \"direction_z\"]\n",
    "\n",
    "muon = True"
   ]
  },
  {
   "cell_type": "code",
   "execution_count": 64,
   "metadata": {
    "ExecuteTime": {
     "end_time": "2021-02-09T12:43:04.615535Z",
     "start_time": "2021-02-09T12:41:13.084976Z"
    },
    "scrolled": true
   },
   "outputs": [
    {
     "name": "stdout",
     "output_type": "stream",
     "text": [
      "Connecting to db-file\n",
      "Reading files\n",
      "Splitting data to events\n"
     ]
    },
    {
     "name": "stderr",
     "output_type": "stream",
     "text": [
      "  0%|                                                                             | 53/100000 [00:00<03:09, 528.43it/s]"
     ]
    },
    {
     "name": "stdout",
     "output_type": "stream",
     "text": [
      "Generating adjacency matrices\n"
     ]
    },
    {
     "name": "stderr",
     "output_type": "stream",
     "text": [
      "100%|████████████████████████████████████████████████████████████████████████| 100000/100000 [01:15<00:00, 1326.11it/s]\n"
     ]
    },
    {
     "name": "stdout",
     "output_type": "stream",
     "text": [
      "Saving dataset\n"
     ]
    }
   ],
   "source": [
    "spec='muon0'\n",
    "path='data/loaddata'\n",
    "db_file='data/rasmus_classification_muon_3neutrino_3mio.db'\n",
    "db_folder='data'\n",
    "skip=1\n",
    "n_data=1e5\n",
    "n_data=int(n_data)\n",
    "n_neighbors = 6 # this is a hyperparam optimization\n",
    "if os.path.isfile(path):\n",
    "    # Make output folder\n",
    "    os.mkdir(path)\n",
    "\n",
    "print(\"Connecting to db-file\")\n",
    "with sqlite3.connect(db_file) as conn:\n",
    "    # Find indices to cut after\n",
    "    try:\n",
    "        if muon:\n",
    "            start_id = conn.execute(f\"select distinct event_no from features where event_no > 130000000 limit 1 offset {skip}\").fetchall()[0][0]\n",
    "            stop_id  = conn.execute(f\"select distinct event_no from features where event_no > 130000000 limit 1 offset {skip + n_data}\").fetchall()[0][0]\n",
    "        else:\n",
    "            start_id = conn.execute(f\"select distinct event_no from features limit 1 offset {self.skip}\").fetchall()[0][0]\n",
    "            stop_id  = conn.execute(f\"select distinct event_no from features limit 1 offset {self.skip + self.n_data}\").fetchall()[0][0]\n",
    "    except:\n",
    "        start_id = 0\n",
    "        stop_id  = 999999999\n",
    "\n",
    "    # SQL query format\n",
    "    feature_call = \", \".join(features)\n",
    "    target_call  = \", \".join(targets)\n",
    "\n",
    "    # Load data from db-file\n",
    "    print(\"Reading files\")\n",
    "    df_event = read_sql(f\"select event_no       from features where event_no >= {start_id} and event_no < {stop_id}\", conn)\n",
    "    df_feat  = read_sql(f\"select {feature_call} from features where event_no >= {start_id} and event_no < {stop_id}\", conn)\n",
    "    df_targ  = read_sql(f\"select {target_call } from truth    where event_no >= {start_id} and event_no < {stop_id}\", conn)\n",
    "\n",
    "#     transformers = pickle.load(open(osp.join(db_folder, \"transformers.pkl\"), 'rb'))\n",
    "#     trans_x      = transformers['features']\n",
    "#     trans_y      = transformers['truth']\n",
    "\n",
    "\n",
    "#     for col in df_feat.columns:\n",
    "#         df_feat[col] = trans_x[col].inverse_transform(np.array(df_feat[col]).reshape(1, -1)).T\n",
    "\n",
    "#     for col in df_targ.columns:\n",
    "#         df_targ[col] = trans_y[col].inverse_transform(np.array(df_targ[col]).reshape(1, -1)).T\n",
    "\n",
    "\n",
    "\n",
    "    # Cut indices\n",
    "    print(\"Splitting data to events\")\n",
    "    idx_list    = np.array(df_event)\n",
    "    x_not_split = np.array(df_feat)\n",
    "\n",
    "    _, idx, counts = np.unique(idx_list.flatten(), return_index = True, return_counts = True) \n",
    "    xs          = np.split(x_not_split, np.cumsum(counts)[:-1])\n",
    "\n",
    "    ys          = np.array(df_targ)\n",
    "\n",
    "\n",
    "\n",
    "    # Generate adjacency matrices\n",
    "    print(\"Generating adjacency matrices\")\n",
    "    graph_list = []\n",
    "    for x, y in tqdm(zip(xs, ys), total = len(xs)):\n",
    "        a = knn(x[:, :3], n_neighbors)\n",
    "\n",
    "\n",
    "\n",
    "        graph_list.append(Graph(x = x, a = a, y = y))\n",
    "\n",
    "    graph_list = np.array(graph_list, dtype = object)\n",
    "\n",
    "\n",
    "    print(\"Saving dataset\")\n",
    "    pickle.dump(graph_list, open(osp.join(path, \"graph\"+spec+\".dat\"), 'wb'))"
   ]
  },
  {
   "cell_type": "code",
   "execution_count": 65,
   "metadata": {
    "ExecuteTime": {
     "end_time": "2021-02-09T12:45:33.860052Z",
     "start_time": "2021-02-09T12:45:33.849082Z"
    }
   },
   "outputs": [
    {
     "data": {
      "text/plain": [
       "array([ 1.29448004, -1.62512565,  0.77430965])"
      ]
     },
     "execution_count": 65,
     "metadata": {},
     "output_type": "execute_result"
    }
   ],
   "source": [
    "xs[0][0,:3] # x,y,z of dom"
   ]
  },
  {
   "cell_type": "code",
   "execution_count": 66,
   "metadata": {
    "ExecuteTime": {
     "end_time": "2021-02-09T12:45:34.560586Z",
     "start_time": "2021-02-09T12:45:34.556597Z"
    }
   },
   "outputs": [],
   "source": [
    "a=graph_list[0]\n",
    "a=a.a"
   ]
  },
  {
   "cell_type": "code",
   "execution_count": 67,
   "metadata": {
    "ExecuteTime": {
     "end_time": "2021-02-09T12:45:35.141686Z",
     "start_time": "2021-02-09T12:45:34.934281Z"
    }
   },
   "outputs": [
    {
     "data": {
      "text/plain": [
       "<matplotlib.image.AxesImage at 0x22bd4b5d400>"
      ]
     },
     "execution_count": 67,
     "metadata": {},
     "output_type": "execute_result"
    },
    {
     "data": {
      "image/png": "[encoded data removed]",
      "text/plain": [
       "<Figure size 432x288 with 1 Axes>"
      ]
     },
     "metadata": {
      "needs_background": "light"
     },
     "output_type": "display_data"
    }
   ],
   "source": [
    "plt.imshow(a.toarray())"
   ]
  },
  {
   "cell_type": "code",
   "execution_count": 68,
   "metadata": {
    "ExecuteTime": {
     "end_time": "2021-02-09T12:45:35.319468Z",
     "start_time": "2021-02-09T12:45:35.291579Z"
    }
   },
   "outputs": [
    {
     "data": {
      "text/html": [
       "<div>\n",
       "<style scoped>\n",
       "    .dataframe tbody tr th:only-of-type {\n",
       "        vertical-align: middle;\n",
       "    }\n",
       "\n",
       "    .dataframe tbody tr th {\n",
       "        vertical-align: top;\n",
       "    }\n",
       "\n",
       "    .dataframe thead th {\n",
       "        text-align: right;\n",
       "    }\n",
       "</style>\n",
       "<table border=\"1\" class=\"dataframe\">\n",
       "  <thead>\n",
       "    <tr style=\"text-align: right;\">\n",
       "      <th></th>\n",
       "      <th>energy_log10</th>\n",
       "      <th>position_x</th>\n",
       "      <th>position_y</th>\n",
       "      <th>position_z</th>\n",
       "      <th>direction_x</th>\n",
       "      <th>direction_y</th>\n",
       "      <th>direction_z</th>\n",
       "    </tr>\n",
       "  </thead>\n",
       "  <tbody>\n",
       "    <tr>\n",
       "      <th>0</th>\n",
       "      <td>-1.265877</td>\n",
       "      <td>-0.047820</td>\n",
       "      <td>-0.269170</td>\n",
       "      <td>-0.110488</td>\n",
       "      <td>0.033199</td>\n",
       "      <td>0.127796</td>\n",
       "      <td>-0.466724</td>\n",
       "    </tr>\n",
       "    <tr>\n",
       "      <th>1</th>\n",
       "      <td>-1.368341</td>\n",
       "      <td>-0.210812</td>\n",
       "      <td>0.268043</td>\n",
       "      <td>-0.088578</td>\n",
       "      <td>0.140825</td>\n",
       "      <td>-1.226674</td>\n",
       "      <td>0.622130</td>\n",
       "    </tr>\n",
       "    <tr>\n",
       "      <th>2</th>\n",
       "      <td>-1.347992</td>\n",
       "      <td>0.287188</td>\n",
       "      <td>-0.162080</td>\n",
       "      <td>-0.190609</td>\n",
       "      <td>0.117596</td>\n",
       "      <td>1.212839</td>\n",
       "      <td>0.538479</td>\n",
       "    </tr>\n",
       "    <tr>\n",
       "      <th>3</th>\n",
       "      <td>-1.247069</td>\n",
       "      <td>0.677499</td>\n",
       "      <td>-0.074929</td>\n",
       "      <td>-0.216272</td>\n",
       "      <td>-0.282143</td>\n",
       "      <td>0.794448</td>\n",
       "      <td>1.312213</td>\n",
       "    </tr>\n",
       "    <tr>\n",
       "      <th>4</th>\n",
       "      <td>-1.411470</td>\n",
       "      <td>0.393770</td>\n",
       "      <td>-0.107932</td>\n",
       "      <td>-0.234591</td>\n",
       "      <td>-1.099827</td>\n",
       "      <td>0.162114</td>\n",
       "      <td>0.997959</td>\n",
       "    </tr>\n",
       "    <tr>\n",
       "      <th>...</th>\n",
       "      <td>...</td>\n",
       "      <td>...</td>\n",
       "      <td>...</td>\n",
       "      <td>...</td>\n",
       "      <td>...</td>\n",
       "      <td>...</td>\n",
       "      <td>...</td>\n",
       "    </tr>\n",
       "    <tr>\n",
       "      <th>99995</th>\n",
       "      <td>-0.836112</td>\n",
       "      <td>-0.348856</td>\n",
       "      <td>-0.116874</td>\n",
       "      <td>-0.224072</td>\n",
       "      <td>0.291845</td>\n",
       "      <td>-1.177078</td>\n",
       "      <td>0.355751</td>\n",
       "    </tr>\n",
       "    <tr>\n",
       "      <th>99996</th>\n",
       "      <td>-0.614421</td>\n",
       "      <td>-0.212948</td>\n",
       "      <td>0.091922</td>\n",
       "      <td>-0.033170</td>\n",
       "      <td>0.667239</td>\n",
       "      <td>0.236223</td>\n",
       "      <td>-0.289984</td>\n",
       "    </tr>\n",
       "    <tr>\n",
       "      <th>99997</th>\n",
       "      <td>-0.955620</td>\n",
       "      <td>-0.188758</td>\n",
       "      <td>-0.190015</td>\n",
       "      <td>-0.255699</td>\n",
       "      <td>-0.229424</td>\n",
       "      <td>-1.168897</td>\n",
       "      <td>0.835978</td>\n",
       "    </tr>\n",
       "    <tr>\n",
       "      <th>99998</th>\n",
       "      <td>-1.127637</td>\n",
       "      <td>0.000874</td>\n",
       "      <td>0.177569</td>\n",
       "      <td>-0.253500</td>\n",
       "      <td>0.273006</td>\n",
       "      <td>1.143254</td>\n",
       "      <td>0.285294</td>\n",
       "    </tr>\n",
       "    <tr>\n",
       "      <th>99999</th>\n",
       "      <td>-0.858474</td>\n",
       "      <td>-0.156277</td>\n",
       "      <td>0.070812</td>\n",
       "      <td>-0.168929</td>\n",
       "      <td>0.277043</td>\n",
       "      <td>1.003839</td>\n",
       "      <td>1.108665</td>\n",
       "    </tr>\n",
       "  </tbody>\n",
       "</table>\n",
       "<p>100000 rows × 7 columns</p>\n",
       "</div>"
      ],
      "text/plain": [
       "       energy_log10  position_x  position_y  position_z  direction_x  \\\n",
       "0         -1.265877   -0.047820   -0.269170   -0.110488     0.033199   \n",
       "1         -1.368341   -0.210812    0.268043   -0.088578     0.140825   \n",
       "2         -1.347992    0.287188   -0.162080   -0.190609     0.117596   \n",
       "3         -1.247069    0.677499   -0.074929   -0.216272    -0.282143   \n",
       "4         -1.411470    0.393770   -0.107932   -0.234591    -1.099827   \n",
       "...             ...         ...         ...         ...          ...   \n",
       "99995     -0.836112   -0.348856   -0.116874   -0.224072     0.291845   \n",
       "99996     -0.614421   -0.212948    0.091922   -0.033170     0.667239   \n",
       "99997     -0.955620   -0.188758   -0.190015   -0.255699    -0.229424   \n",
       "99998     -1.127637    0.000874    0.177569   -0.253500     0.273006   \n",
       "99999     -0.858474   -0.156277    0.070812   -0.168929     0.277043   \n",
       "\n",
       "       direction_y  direction_z  \n",
       "0         0.127796    -0.466724  \n",
       "1        -1.226674     0.622130  \n",
       "2         1.212839     0.538479  \n",
       "3         0.794448     1.312213  \n",
       "4         0.162114     0.997959  \n",
       "...            ...          ...  \n",
       "99995    -1.177078     0.355751  \n",
       "99996     0.236223    -0.289984  \n",
       "99997    -1.168897     0.835978  \n",
       "99998     1.143254     0.285294  \n",
       "99999     1.003839     1.108665  \n",
       "\n",
       "[100000 rows x 7 columns]"
      ]
     },
     "execution_count": 68,
     "metadata": {},
     "output_type": "execute_result"
    }
   ],
   "source": [
    "df_targ"
   ]
  },
  {
   "cell_type": "code",
   "execution_count": null,
   "metadata": {},
   "outputs": [],
   "source": []
  }
 ],
 "metadata": {
  "hide_input": false,
  "kernelspec": {
   "display_name": "Python 3",
   "language": "python",
   "name": "python3"
  },
  "language_info": {
   "codemirror_mode": {
    "name": "ipython",
    "version": 3
   },
   "file_extension": ".py",
   "mimetype": "text/x-python",
   "name": "python",
   "nbconvert_exporter": "python",
   "pygments_lexer": "ipython3",
   "version": "3.8.5"
  }
 },
 "nbformat": 4,
 "nbformat_minor": 4
}
