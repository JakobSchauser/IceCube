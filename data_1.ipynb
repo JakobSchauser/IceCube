{
 "cells": [
  {
   "cell_type": "code",
   "execution_count": 1,
   "metadata": {
    "ExecuteTime": {
     "end_time": "2021-02-12T15:40:04.682280Z",
     "start_time": "2021-02-12T15:39:59.061550Z"
    }
   },
   "outputs": [],
   "source": [
    "import numpy as np\n",
    "import os, sqlite3, pickle, sys, gzip, shutil, time\n",
    "from tqdm import tqdm\n",
    "import os.path as osp\n",
    "\n",
    "from pandas import read_sql, concat\n",
    "from sklearn.preprocessing import normalize, RobustScaler\n",
    "from sklearn.neighbors import kneighbors_graph as knn\n",
    "import matplotlib.pyplot as plt\n",
    "\n",
    "os.environ['TF_CPP_MIN_LOG_LEVEL'] = '2' \n",
    "from spektral.data import Dataset, Graph\n",
    "import tensorflow as tf\n",
    "from importlib import reload"
   ]
  },
  {
   "cell_type": "code",
   "execution_count": 3,
   "metadata": {
    "ExecuteTime": {
     "end_time": "2021-02-12T15:40:14.410458Z",
     "start_time": "2021-02-12T15:40:13.020350Z"
    }
   },
   "outputs": [
    {
     "name": "stdout",
     "output_type": "stream",
     "text": [
      "Removed and ready to reload\n",
      "Connecting to db-file\n",
      "Loading Muons\n",
      "Reading files\n",
      "Splitting data to events\n",
      "Generating adjacency matrices\n"
     ]
    },
    {
     "data": {
      "application/vnd.jupyter.widget-view+json": {
       "model_id": "5f4f7c984f1842e6b68cd358986e651c",
       "version_major": 2,
       "version_minor": 0
      },
      "text/plain": [
       "HBox(children=(HTML(value=''), FloatProgress(value=0.0, max=1000.0), HTML(value='')))"
      ]
     },
     "metadata": {},
     "output_type": "display_data"
    },
    {
     "name": "stdout",
     "output_type": "stream",
     "text": [
      "\n",
      "Saving dataset\n",
      "Loading data to memory\n"
     ]
    }
   ],
   "source": [
    "import data_load as dl\n",
    "reload(dl)\n",
    "graph_data=dl.graph_data\n",
    "graphtest=graph_data(n_data=1000, restart=1)"
   ]
  },
  {
   "cell_type": "code",
   "execution_count": null,
   "metadata": {},
   "outputs": [],
   "source": []
  },
  {
   "cell_type": "code",
   "execution_count": 48,
   "metadata": {
    "ExecuteTime": {
     "end_time": "2021-02-10T20:57:55.528213Z",
     "start_time": "2021-02-10T20:57:55.232733Z"
    }
   },
   "outputs": [
    {
     "name": "stdout",
     "output_type": "stream",
     "text": [
      "Removing current data folder\n",
      "Preparing dataset with 14 graphs\n",
      "Loading data to memory\n"
     ]
    }
   ],
   "source": [
    "if __name__ == \"__main__\":\n",
    "    print(\"Removing current data folder\")\n",
    "    \n",
    "    path = osp.dirname(osp.realpath(osp.abspath('')))\n",
    "    if not \"processed\" in os.listdir(path):\n",
    "        os.mkdir(osp.join(path, \"processed\"))\n",
    "#     if not \"raw_files\" in os.listdir(path):\n",
    "#         os.mkdir(osp.join(path, \"processed\"))\n",
    "#         print(\"Folder created for raw files, please add some before continuing\")\n",
    "#         sys.exit()\n",
    "\n",
    "    if os.path.isdir(osp.join(path, \"processed\", \"graph_w_edge2\")):\n",
    "        shutil.rmtree(osp.join(path, \"processed\", \"graph_w_edge2\"))\n",
    "    n_data=int(14)\n",
    "    print(f\"Preparing dataset with {n_data} graphs\")\n",
    "\n",
    "    # Preparing data \n",
    "    dataset = graph_w_edge2(n_data = n_data)"
   ]
  },
  {
   "cell_type": "code",
   "execution_count": 50,
   "metadata": {
    "ExecuteTime": {
     "end_time": "2021-02-10T20:58:39.752095Z",
     "start_time": "2021-02-10T20:58:39.567586Z"
    }
   },
   "outputs": [
    {
     "name": "stdout",
     "output_type": "stream",
     "text": [
      "Loading data to memory\n"
     ]
    },
    {
     "data": {
      "text/plain": [
       "array([Graph(n_nodes=33, n_node_features=5, n_edge_features=None, n_labels=7),\n",
       "       Graph(n_nodes=43, n_node_features=5, n_edge_features=None, n_labels=7),\n",
       "       Graph(n_nodes=41, n_node_features=5, n_edge_features=None, n_labels=7),\n",
       "       ...,\n",
       "       Graph(n_nodes=66, n_node_features=5, n_edge_features=None, n_labels=7),\n",
       "       Graph(n_nodes=52, n_node_features=5, n_edge_features=None, n_labels=7),\n",
       "       Graph(n_nodes=72, n_node_features=5, n_edge_features=None, n_labels=7)],\n",
       "      dtype=object)"
      ]
     },
     "execution_count": 50,
     "metadata": {},
     "output_type": "execute_result"
    }
   ],
   "source": [
    "graphtest.read()"
   ]
  },
  {
   "cell_type": "code",
   "execution_count": 45,
   "metadata": {
    "ExecuteTime": {
     "end_time": "2021-02-10T20:57:24.918309Z",
     "start_time": "2021-02-10T20:57:24.913469Z"
    }
   },
   "outputs": [
    {
     "data": {
      "text/plain": [
       "'C:\\\\Users\\\\chris\\\\Christian\\\\3YR-UNI\\\\Bachelor'"
      ]
     },
     "execution_count": 45,
     "metadata": {},
     "output_type": "execute_result"
    }
   ],
   "source": [
    "osp.dirname(osp.realpath(osp.abspath('')))"
   ]
  }
 ],
 "metadata": {
  "hide_input": false,
  "kernelspec": {
   "display_name": "Python 3",
   "language": "python",
   "name": "python3"
  },
  "language_info": {
   "codemirror_mode": {
    "name": "ipython",
    "version": 3
   },
   "file_extension": ".py",
   "mimetype": "text/x-python",
   "name": "python",
   "nbconvert_exporter": "python",
   "pygments_lexer": "ipython3",
   "version": "3.8.5"
  }
 },
 "nbformat": 4,
 "nbformat_minor": 4
}
